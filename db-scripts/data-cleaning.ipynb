{
 "cells": [
  {
   "cell_type": "code",
   "execution_count": null,
   "metadata": {},
   "outputs": [],
   "source": [
    "import re\n",
    "import pandas as pd\n",
    "import numpy as np\n",
    "from pandarallel import pandarallel\n",
    "from datetime import datetime\n",
    "from json import dumps as json_dumps\n",
    "from zipfile import ZipFile, ZIP_DEFLATED\n",
    "from time import time\n",
    "from os import path\n",
    "\n",
    "pandarallel.initialize(use_memory_fs=True)"
   ]
  },
  {
   "cell_type": "code",
   "execution_count": null,
   "metadata": {},
   "outputs": [],
   "source": [
    "TODAY = datetime.now().strftime(\"%F\")\n",
    "BEE_LOOKUP_LIST = \"2021-02-22_scan-bee-list.csv\"\n",
    "DATA_DIR = \"/data/disk/scratch\"\n",
    "\n",
    "INPUT_FILE = \"{}/initial_combined_data.csv\".format(DATA_DIR)\n",
    "INPUT_FILE_BASE = path.basename(INPUT_FILE)\n",
    "\n",
    "OUTPUT_FILE = \"{}/{}_{}_cleaned.csv\".format(\n",
    "    DATA_DIR,\n",
    "    TODAY,\n",
    "    INPUT_FILE_BASE.replace(\".csv\", \"\")\n",
    ")\n",
    "\n",
    "OUTPUT_SCINAME_FILE = \"{}_sci-names.csv\".format(\n",
    "    OUTPUT_FILE.replace(\".csv\", \"\")\n",
    ")\n",
    "\n",
    "OUTPUT_ZIP_FILE = OUTPUT_FILE.replace(\".csv\", \".zip\")\n",
    "\n",
    "print(\"Input file: {}\".format(INPUT_FILE))\n",
    "print(\"Output file (dataframe): {}\".format(OUTPUT_FILE))\n",
    "print(\"Output file (unique taxa): {}\".format(OUTPUT_SCINAME_FILE))\n",
    "print(\"Output file (archive)): {}\".format(OUTPUT_ZIP_FILE))"
   ]
  },
  {
   "cell_type": "code",
   "execution_count": null,
   "metadata": {},
   "outputs": [],
   "source": [
    "bee_lookup_lst = [b.strip() for b in pd.read_csv(BEE_LOOKUP_LIST)[\"sciName\"].to_numpy(np.dtype(\"unicode\"))]\n",
    "bee_lookup_lst = np.unique(bee_lookup_lst)\n",
    "bee_lookup_memoized = dict()\n",
    "\n",
    "def bee_lookup(row):\n",
    "    global bee_lookup_lst\n",
    "    \n",
    "    sci_name = row[\"scientificName\"]\n",
    "\n",
    "    if pd.isna(sci_name) or sci_name == \"\":\n",
    "        return row\n",
    "    \n",
    "    if sci_name in bee_lookup_memoized.keys():\n",
    "        row[\"scientificName\"] = bee_lookup_memoized[sci_name]\n",
    "        return row\n",
    "    else:\n",
    "        bee_lookup_memoized[sci_name] = sci_name\n",
    "    \n",
    "    sci_name_lower = sci_name.lower()\n",
    "    sci_name_words = tuple(sci_name_lower.split(\" \"))\n",
    "    \n",
    "    for bee_name in bee_lookup_lst:\n",
    "        bee_name_lower = bee_name.lower()\n",
    "        bee_name_words = tuple(bee_name_lower.split(\" \"))\n",
    "        \n",
    "        # If the first two or last two words match\n",
    "        is_match = (\n",
    "            len(sci_name_words) >= 2 and\n",
    "            (\n",
    "                (\n",
    "                    sci_name_words[0] == bee_name_words[0] and\n",
    "                    sci_name_words[1] == bee_name_words[1]\n",
    "                ) or\n",
    "                (\n",
    "                    sci_name_words[-2] == bee_name_words[-2] and\n",
    "                    sci_name_words[-1] == bee_name_words[-1]\n",
    "                )\n",
    "            )\n",
    "        )\n",
    "        \n",
    "        if is_match:\n",
    "            bee_lookup_memoized[sci_name] = bee_name\n",
    "            row[\"scientificName\"] = bee_name\n",
    "            break\n",
    "    \n",
    "    return row"
   ]
  },
  {
   "cell_type": "code",
   "execution_count": null,
   "metadata": {
    "pycharm": {
     "name": "#%%\n"
    },
    "scrolled": true
   },
   "outputs": [],
   "source": [
    "input_df = pd.read_csv(INPUT_FILE, low_memory=False).infer_objects()\n",
    "input_df[\"scientificName\"] = input_df[\"scientificName\"].fillna(\"\").astype(np.dtype(\"unicode\"))\n",
    "input_df.head()"
   ]
  },
  {
   "cell_type": "code",
   "execution_count": null,
   "metadata": {},
   "outputs": [],
   "source": [
    "print(\"Unique scientific names before cleaning: {:,}\".format(len(np.unique(input_df[\"scientificName\"]))))\n",
    "\n",
    "start_time = time()\n",
    "\n",
    "output_df = input_df.copy().drop(\"Unnamed: 0\", axis=\"columns\")\n",
    "output_df = output_df.parallel_apply(bee_lookup, axis=\"columns\")\n",
    "\n",
    "unique_sci_names = np.unique(output_df[\"scientificName\"])\n",
    "print(\"Unique scientific names after cleaning: {:,}\".format(len(unique_sci_names)))\n",
    "\n",
    "print(\"Cleaning took {} minutes\".format(round((time() - start_time) / 60)))"
   ]
  },
  {
   "cell_type": "code",
   "execution_count": null,
   "metadata": {},
   "outputs": [],
   "source": [
    "output_df.to_csv(OUTPUT_FILE, index=False)"
   ]
  },
  {
   "cell_type": "code",
   "execution_count": null,
   "metadata": {},
   "outputs": [],
   "source": [
    "with open(OUTPUT_SCINAME_FILE, 'w') as f:\n",
    "    f.write(\"scientificName\\n\")\n",
    "    for s in unique_sci_names:\n",
    "        f.write('\"{}\"\\n'.format(s))"
   ]
  },
  {
   "cell_type": "code",
   "execution_count": null,
   "metadata": {},
   "outputs": [],
   "source": [
    "with ZipFile(OUTPUT_ZIP_FILE, 'w', compression=ZIP_DEFLATED) as f:\n",
    "    f.write(OUTPUT_FILE, arcname=path.basename(OUTPUT_FILE))\n",
    "    f.write(OUTPUT_SCINAME_FILE, arcname=path.basename(OUTPUT_SCINAME_FILE))"
   ]
  },
  {
   "cell_type": "code",
   "execution_count": null,
   "metadata": {},
   "outputs": [],
   "source": [
    "before_len = len(output_df)\n",
    "after_len = len(output_df[output_df[\"scientificName\"].isin(bee_lookup_lst)])\n",
    "print(\"Dropping unknown taxa would result in the loss of {:,} records\".format(before_len - after_len))"
   ]
  }
 ],
 "metadata": {
  "kernelspec": {
   "display_name": "Python 3",
   "language": "python",
   "name": "python3"
  },
  "language_info": {
   "codemirror_mode": {
    "name": "ipython",
    "version": 3
   },
   "file_extension": ".py",
   "mimetype": "text/x-python",
   "name": "python",
   "nbconvert_exporter": "python",
   "pygments_lexer": "ipython3",
   "version": "3.8.5"
  }
 },
 "nbformat": 4,
 "nbformat_minor": 1
}
