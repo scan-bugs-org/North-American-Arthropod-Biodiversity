{
 "cells": [
  {
   "cell_type": "code",
   "execution_count": null,
   "metadata": {},
   "outputs": [],
   "source": [
    "import re\n",
    "import pandas as pd\n",
    "import numpy as np\n",
    "from pandarallel import pandarallel\n",
    "from datetime import datetime\n",
    "from json import dumps as json_dumps\n",
    "\n",
    "pandarallel.initialize(use_memory_fs=True)"
   ]
  },
  {
   "cell_type": "code",
   "execution_count": null,
   "metadata": {},
   "outputs": [],
   "source": [
    "INPUT_FILE = \"initial_combined_data.csv\"\n",
    "BEE_LOOKUP_LIST = \"2021-02-22_scan-bee-list.csv\"\n",
    "OUTPUT_FILE = \"{}_{}_cleaned.csv\".format(\n",
    "    datetime.now().strftime(\"%F\"),\n",
    "    INPUT_FILE.replace(\".csv\", \"\")\n",
    ")"
   ]
  },
  {
   "cell_type": "code",
   "execution_count": null,
   "metadata": {
    "pycharm": {
     "name": "#%%\n"
    }
   },
   "outputs": [],
   "source": [
    "def collapse_whitespace(input_str):\n",
    "    return re.sub(r\" +\", \" \", input_str).strip()\n",
    "\n",
    "\n",
    "def remove_parentheses(row):\n",
    "    sciName = row[\"scientificName\"]\n",
    "\n",
    "    if pd.isna(sciName):\n",
    "        return row\n",
    "\n",
    "    sciName = re.sub(r\"\\([^)]+\\)\", \"\", sciName)\n",
    "    sciName = collapse_whitespace(sciName)\n",
    "    \n",
    "    row[\"scientificName\"] = sciName\n",
    "    return row\n",
    "\n",
    "\n",
    "def remove_authorship(row):\n",
    "    sciName = row[\"scientificName\"]\n",
    "\n",
    "    if pd.isna(sciName):\n",
    "        return row\n",
    "\n",
    "    sciName = re.sub(r\" [A-Z][a-z]+,\\s+\\d{4}\\s*$\", \"\", sciName)\n",
    "    sciName = collapse_whitespace(sciName)\n",
    "    \n",
    "    row[\"scientificName\"] = sciName\n",
    "    return row\n"
   ]
  },
  {
   "cell_type": "code",
   "execution_count": null,
   "metadata": {},
   "outputs": [],
   "source": [
    "bee_lookup_lst = pd.read_csv(BEE_LOOKUP_LIST)[\"sciName\"].to_numpy(np.dtype(\"unicode\"))\n",
    "bee_lookup_lst = np.unique(bee_lookup_lst)\n",
    "\n",
    "def bee_lookup(row):\n",
    "    global bee_lookup_lst\n",
    "    \n",
    "    sciName = row[\"scientificName\"]\n",
    "\n",
    "    if pd.isna(sciName) or sciName == \"\":\n",
    "        return row\n",
    "    \n",
    "    sci_name_lower = sciName.lower()\n",
    "    \n",
    "    for bee_name in bee_lookup_lst:\n",
    "        bee_name = bee_name.strip()\n",
    "        bee_name_lower = bee_name.lower()\n",
    "        is_match = (\n",
    "            sci_name_lower.startswith(bee_name_lower) or \n",
    "            sci_name_lower.endswith(bee_name_lower)\n",
    "        )\n",
    "        \n",
    "        if is_match:\n",
    "            row[\"scientificName\"] = bee_name\n",
    "            break\n",
    "    \n",
    "    return row"
   ]
  },
  {
   "cell_type": "code",
   "execution_count": null,
   "metadata": {},
   "outputs": [],
   "source": [
    "def do_cleaning(row):\n",
    "    row = remove_parentheses(row)\n",
    "    row = remove_authorship(row)\n",
    "    row = bee_lookup(row)\n",
    "    return row"
   ]
  },
  {
   "cell_type": "code",
   "execution_count": null,
   "metadata": {
    "pycharm": {
     "name": "#%%\n"
    },
    "scrolled": true
   },
   "outputs": [],
   "source": [
    "input_df = pd.read_csv(INPUT_FILE, low_memory=False).infer_objects()\n",
    "input_df[\"scientificName\"] = input_df[\"scientificName\"].fillna(\"\").astype(np.dtype(\"unicode\"))\n",
    "input_df.head()"
   ]
  },
  {
   "cell_type": "code",
   "execution_count": null,
   "metadata": {},
   "outputs": [],
   "source": [
    "print(\"Unique scientific names before cleaning: {:,}\".format(len(np.unique(input_df[\"scientificName\"]))))\n",
    "\n",
    "output_df = input_df.copy().drop(\"Unnamed: 0\", axis=\"columns\")\n",
    "output_df = output_df.parallel_apply(do_cleaning, axis=\"columns\")\n",
    "      \n",
    "print(\"Unique scientific names after cleaning: {:,}\".format(len(np.unique(output_df[\"scientificName\"]))))"
   ]
  },
  {
   "cell_type": "code",
   "execution_count": null,
   "metadata": {},
   "outputs": [],
   "source": [
    "output_df.to_csv(OUTPUT_FILE, index=False)"
   ]
  },
  {
   "cell_type": "code",
   "execution_count": null,
   "metadata": {
    "scrolled": true
   },
   "outputs": [],
   "source": [
    "sci_names = np.unique(output_df[\"scientificName\"])\n",
    "[print(s) for s in sci_names[40:80]]"
   ]
  },
  {
   "cell_type": "code",
   "execution_count": null,
   "metadata": {},
   "outputs": [],
   "source": [
    "before_len = len(output_df)\n",
    "after_len = len(output_df[output_df[\"scientificName\"].isin(bee_lookup_lst)])\n",
    "print(\"Dropping unknown taxa would result in the loss of {:,} records\".format(before_len - after_len))"
   ]
  },
  {
   "cell_type": "code",
   "execution_count": null,
   "metadata": {},
   "outputs": [],
   "source": []
  }
 ],
 "metadata": {
  "kernelspec": {
   "display_name": "Python 3",
   "language": "python",
   "name": "python3"
  },
  "language_info": {
   "codemirror_mode": {
    "name": "ipython",
    "version": 3
   },
   "file_extension": ".py",
   "mimetype": "text/x-python",
   "name": "python",
   "nbconvert_exporter": "python",
   "pygments_lexer": "ipython3",
   "version": "3.8.5"
  }
 },
 "nbformat": 4,
 "nbformat_minor": 1
}
