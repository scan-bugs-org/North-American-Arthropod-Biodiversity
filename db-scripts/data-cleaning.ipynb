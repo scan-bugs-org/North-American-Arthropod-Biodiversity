{
 "cells": [
  {
   "cell_type": "code",
   "execution_count": 3,
   "metadata": {
    "collapsed": true
   },
   "outputs": [
    {
     "name": "stdout",
     "output_type": "stream",
     "text": [
      "INFO: Pandarallel will run on 8 workers.\n",
      "INFO: Pandarallel will use Memory file system to transfer data between the main process and workers.\n"
     ]
    }
   ],
   "source": [
    "import re\n",
    "import pandas as pd\n",
    "from pandarallel import pandarallel\n",
    "\n",
    "pandarallel.initialize()"
   ]
  },
  {
   "cell_type": "code",
   "execution_count": null,
   "outputs": [],
   "source": [
    "def strip_scientificName(row):\n",
    "    sciName = row[\"scientificName\"]\n",
    "\n",
    "    if pd.isna(sciName):\n",
    "        return row\n",
    "\n",
    "    row[\"scientificName\"] = sciName.strip()\n",
    "    return row\n",
    "\n",
    "\n",
    "def remove_parentheses(row):\n",
    "    sciName = row[\"scientificName\"]\n",
    "\n",
    "    if pd.isna(sciName):\n",
    "        return row\n",
    "\n",
    "    sciName = re.sub(r\"\\([^)]+\\)\", \"\", sciName)\n",
    "    sciName = re.sub(r\" +\", \" \", sciName).strip()\n",
    "    row[\"scientificName\"] = sciName\n",
    "    return row\n",
    "\n",
    "\n",
    "def remove_authorship(row):\n",
    "    sciName = row[\"scientificName\"]\n",
    "\n",
    "    if pd.isna(sciName):\n",
    "        return row\n",
    "\n",
    "    sciName = re.sub(r\" [A-Z][a-z]+,\\s+\\d{4}\\s*$\", \"\", sciName)\n",
    "    sciName = re.sub(r\" +\", \" \", sciName).strip()\n",
    "    row[\"scientificName\"] = sciName\n",
    "    return row\n",
    "\n",
    "\n",
    "def do_cleaning(row):\n",
    "    row = remove_parentheses(row)\n",
    "    row = remove_authorship(row)\n",
    "    row = strip_scientificName(row)\n",
    "    return row\n"
   ],
   "metadata": {
    "collapsed": false,
    "pycharm": {
     "name": "#%%\n"
    }
   }
  },
  {
   "cell_type": "code",
   "execution_count": null,
   "outputs": [],
   "source": [],
   "metadata": {
    "collapsed": false,
    "pycharm": {
     "name": "#%%\n"
    }
   }
  }
 ],
 "metadata": {
  "kernelspec": {
   "display_name": "Python 3",
   "language": "python",
   "name": "python3"
  },
  "language_info": {
   "codemirror_mode": {
    "name": "ipython",
    "version": 2
   },
   "file_extension": ".py",
   "mimetype": "text/x-python",
   "name": "python",
   "nbconvert_exporter": "python",
   "pygments_lexer": "ipython2",
   "version": "2.7.6"
  }
 },
 "nbformat": 4,
 "nbformat_minor": 0
}