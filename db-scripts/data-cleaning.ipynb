{
 "cells": [
  {
   "cell_type": "code",
   "execution_count": null,
   "metadata": {},
   "outputs": [],
   "source": [
    "import re\n",
    "import pandas as pd\n",
    "import numpy as np\n",
    "from pandarallel import pandarallel\n",
    "from datetime import datetime\n",
    "from json import dumps as json_dumps\n",
    "\n",
    "pandarallel.initialize(use_memory_fs=True)"
   ]
  },
  {
   "cell_type": "code",
   "execution_count": null,
   "metadata": {},
   "outputs": [],
   "source": [
    "INPUT_FILE = \"/data/disk/jupyter-notebooks/bees.csv\"\n",
    "ORR_LOOKUP_LIST = \"/data/disk/jupyter-notebooks/OrrList.csv\"\n",
    "OUTPUT_FILE = \"/data/disk/jupyter-notebooks/{}_bees.csv\".format(datetime.now().strftime(\"%F\"))"
   ]
  },
  {
   "cell_type": "code",
   "execution_count": null,
   "metadata": {
    "pycharm": {
     "name": "#%%\n"
    }
   },
   "outputs": [],
   "source": [
    "def strip_scientificName(row):\n",
    "    sciName = row[\"scientificName\"]\n",
    "\n",
    "    if pd.isna(sciName):\n",
    "        return row\n",
    "\n",
    "    row[\"scientificName\"] = re.sub(r\" +\", \" \", sciName).strip()\n",
    "    return row\n",
    "\n",
    "\n",
    "def remove_parentheses(row):\n",
    "    sciName = row[\"scientificName\"]\n",
    "\n",
    "    if pd.isna(sciName):\n",
    "        return row\n",
    "\n",
    "    sciName = re.sub(r\"\\([^)]+\\)\", \"\", sciName)\n",
    "    sciName = re.sub(r\" +\", \" \", sciName).strip()\n",
    "    \n",
    "    row[\"scientificName\"] = sciName\n",
    "    return row\n",
    "\n",
    "\n",
    "def remove_authorship(row):\n",
    "    sciName = row[\"scientificName\"]\n",
    "\n",
    "    if pd.isna(sciName):\n",
    "        return row\n",
    "\n",
    "    sciName = re.sub(r\" [A-Z][a-z]+,\\s+\\d{4}\\s*$\", \"\", sciName)\n",
    "    sciName = re.sub(r\" +\", \" \", sciName).strip()\n",
    "    \n",
    "    row[\"scientificName\"] = sciName\n",
    "    return row\n"
   ]
  },
  {
   "cell_type": "code",
   "execution_count": null,
   "metadata": {},
   "outputs": [],
   "source": [
    "orr_lst = pd.read_csv(ORR_LOOKUP_LIST)[\"Name\"].to_numpy(np.dtype(\"unicode\"))\n",
    "\n",
    "def orr_lookup(row):\n",
    "    global orr_lst\n",
    "    \n",
    "    sciName = row[\"scientificName\"]\n",
    "\n",
    "    if pd.isna(sciName) or sciName == \"\":\n",
    "        return row\n",
    "    \n",
    "    sci_name_lower = sciName.lower()\n",
    "    \n",
    "    for orr_name in orr_lst:\n",
    "        orr_name_lower = orr_name.lower()\n",
    "        if orr_name_lower in sci_name_lower:\n",
    "            row[\"scientificName\"] = orr_name\n",
    "            break\n",
    "    \n",
    "    return row"
   ]
  },
  {
   "cell_type": "code",
   "execution_count": null,
   "metadata": {},
   "outputs": [],
   "source": [
    "def do_cleaning(row):\n",
    "    row = remove_parentheses(row)\n",
    "    row = remove_authorship(row)\n",
    "    row = strip_scientificName(row)\n",
    "    row = orr_lookup(row)\n",
    "    return row"
   ]
  },
  {
   "cell_type": "code",
   "execution_count": null,
   "metadata": {
    "pycharm": {
     "name": "#%%\n"
    }
   },
   "outputs": [],
   "source": [
    "input_df = pd.read_csv(INPUT_FILE, encoding=\"latin1\", low_memory=False)\n",
    "input_df.head()"
   ]
  },
  {
   "cell_type": "code",
   "execution_count": null,
   "metadata": {},
   "outputs": [],
   "source": [
    "print(\"Unique scientific names before cleaning: {:,}\".format(len(np.unique(input_df[\"scientificName\"]))))\n",
    "\n",
    "output_df = input_df.copy().drop(\"Unnamed: 0\", axis=\"columns\")\n",
    "output_df = output_df.parallel_apply(do_cleaning, axis=\"columns\")\n",
    "      \n",
    "print(\"Unique scientific names after cleaning: {:,}\".format(len(np.unique(output_df[\"scientificName\"]))))"
   ]
  },
  {
   "cell_type": "code",
   "execution_count": null,
   "metadata": {},
   "outputs": [],
   "source": [
    "output_df.to_csv(OUTPUT_FILE, index=False)"
   ]
  },
  {
   "cell_type": "code",
   "execution_count": null,
   "metadata": {},
   "outputs": [],
   "source": [
    "[print(bytes(n, \"latin1\").decode(\"utf-8\")) for n in np.unique(output_df[\"scientificName\"])[:40]]"
   ]
  },
  {
   "cell_type": "code",
   "execution_count": null,
   "metadata": {},
   "outputs": [],
   "source": []
  }
 ],
 "metadata": {
  "kernelspec": {
   "display_name": "Python 3",
   "language": "python",
   "name": "python3"
  },
  "language_info": {
   "codemirror_mode": {
    "name": "ipython",
    "version": 3
   },
   "file_extension": ".py",
   "mimetype": "text/x-python",
   "name": "python",
   "nbconvert_exporter": "python",
   "pygments_lexer": "ipython3",
   "version": "3.8.5"
  }
 },
 "nbformat": 4,
 "nbformat_minor": 1
}
