{
 "cells": [
  {
   "cell_type": "code",
   "execution_count": null,
   "metadata": {},
   "outputs": [],
   "source": [
    "import re\n",
    "import pandas as pd\n",
    "import numpy as np\n",
    "from pandarallel import pandarallel\n",
    "from datetime import datetime\n",
    "from json import dumps as json_dumps\n",
    "from zipfile import ZipFile\n",
    "from time import time\n",
    "\n",
    "pandarallel.initialize(use_memory_fs=True)"
   ]
  },
  {
   "cell_type": "code",
   "execution_count": null,
   "metadata": {},
   "outputs": [],
   "source": [
    "INPUT_FILE = \"/data/disk/scratch/evin_test.csv\"\n",
    "BEE_LOOKUP_LIST = \"2021-02-22_scan-bee-list.csv\"\n",
    "OUTPUT_FILE = \"/data/disk/scratch/{}_{}_cleaned.csv\".format(\n",
    "    datetime.now().strftime(\"%F\"),\n",
    "    INPUT_FILE.split(\"/\")[-1].replace(\".csv\", \"\")\n",
    ")"
   ]
  },
  {
   "cell_type": "code",
   "execution_count": null,
   "metadata": {
    "pycharm": {
     "name": "#%%\n"
    }
   },
   "outputs": [],
   "source": [
    "def collapse_whitespace(input_str):\n",
    "    return re.sub(r\" +\", \" \", input_str).strip()\n",
    "\n",
    "\n",
    "def remove_parentheses(row):\n",
    "    sciName = row[\"scientificName\"]\n",
    "\n",
    "    if pd.isna(sciName):\n",
    "        return row\n",
    "\n",
    "    sciName = re.sub(r\"\\([^)]+\\)\", \"\", sciName)\n",
    "    sciName = collapse_whitespace(sciName)\n",
    "    \n",
    "    row[\"scientificName\"] = sciName\n",
    "    return row\n",
    "\n",
    "\n",
    "def remove_authorship(row):\n",
    "    sciName = row[\"scientificName\"]\n",
    "\n",
    "    if pd.isna(sciName):\n",
    "        return row\n",
    "\n",
    "    sciName = re.sub(r\" [A-Z][a-z]+,\\s+\\d{4}\\s*$\", \"\", sciName)\n",
    "    sciName = collapse_whitespace(sciName)\n",
    "    \n",
    "    row[\"scientificName\"] = sciName\n",
    "    return row\n"
   ]
  },
  {
   "cell_type": "code",
   "execution_count": null,
   "metadata": {},
   "outputs": [],
   "source": [
    "bee_lookup_lst = [b.strip() for b in pd.read_csv(BEE_LOOKUP_LIST)[\"sciName\"].to_numpy(np.dtype(\"unicode\"))]\n",
    "bee_lookup_lst = np.unique(bee_lookup_lst)\n",
    "bee_lookup_memoized = dict()\n",
    "\n",
    "def bee_lookup(row):\n",
    "    global bee_lookup_lst\n",
    "    \n",
    "    sci_name = row[\"scientificName\"]\n",
    "\n",
    "    if pd.isna(sci_name) or sci_name == \"\":\n",
    "        return row\n",
    "    \n",
    "    if sci_name in bee_lookup_memoized.keys():\n",
    "        row[\"scientificName\"] = bee_lookup_memoized[sci_name]\n",
    "        return row\n",
    "    else:\n",
    "        bee_lookup_memoized[sci_name] = sci_name\n",
    "    \n",
    "    sci_name_lower = sci_name.lower()\n",
    "    sci_name_words = tuple(sci_name_lower.split(\" \"))\n",
    "    \n",
    "    for bee_name in bee_lookup_lst:\n",
    "        bee_name_lower = bee_name.lower()\n",
    "        bee_name_words = tuple(bee_name_lower.split(\" \"))\n",
    "        \n",
    "        # If the first two or last two words match\n",
    "        is_match = (\n",
    "            len(sci_name_words) >= 2 and\n",
    "            (\n",
    "                (\n",
    "                    sci_name_words[0] == bee_name_words[0] and\n",
    "                    sci_name_words[1] == bee_name_words[1]\n",
    "                ) or\n",
    "                (\n",
    "                    sci_name_words[-2] == bee_name_words[-2] and\n",
    "                    sci_name_words[-1] == bee_name_words[-1]\n",
    "                )\n",
    "            )\n",
    "        )\n",
    "                \n",
    "#         is_match = (\n",
    "#             sci_name_lower.startswith(bee_name_lower) or \n",
    "#             sci_name_lower.endswith(bee_name_lower)\n",
    "#         )\n",
    "        \n",
    "        if is_match:\n",
    "            bee_lookup_memoized[sci_name] = bee_name\n",
    "            row[\"scientificName\"] = bee_name\n",
    "            break\n",
    "            \n",
    "    should_print = (\n",
    "        sci_name_lower.startswith(\"triepeolus scel\") or \n",
    "        sci_name_lower.startswith(\"protandrena poli\")\n",
    "    )\n",
    "    if should_print:\n",
    "        print(\"{} --> {}\".format(sci_name, row[\"scientificName\"]))\n",
    "    \n",
    "    return row"
   ]
  },
  {
   "cell_type": "code",
   "execution_count": null,
   "metadata": {},
   "outputs": [],
   "source": [
    "def do_cleaning(row):\n",
    "    #row = remove_parentheses(row)\n",
    "    #row = remove_authorship(row)\n",
    "    row = bee_lookup(row)\n",
    "    return row"
   ]
  },
  {
   "cell_type": "code",
   "execution_count": null,
   "metadata": {
    "pycharm": {
     "name": "#%%\n"
    },
    "scrolled": true
   },
   "outputs": [],
   "source": [
    "input_df = pd.read_csv(INPUT_FILE, low_memory=False).infer_objects()\n",
    "input_df[\"scientificName\"] = input_df[\"scientificName\"].fillna(\"\").astype(np.dtype(\"unicode\"))\n",
    "input_df.head()"
   ]
  },
  {
   "cell_type": "code",
   "execution_count": null,
   "metadata": {},
   "outputs": [],
   "source": [
    "print(\"Unique scientific names before cleaning: {:,}\\n\".format(len(np.unique(input_df[\"scientificName\"]))))\n",
    "\n",
    "start_time = time()\n",
    "\n",
    "output_df = input_df.copy().drop(\"Unnamed: 0\", axis=\"columns\").drop(\"X\", axis=\"columns\")\n",
    "output_df = output_df.parallel_apply(do_cleaning, axis=\"columns\")\n",
    "      \n",
    "print(\"\\nUnique scientific names after cleaning: {:,}\\n\".format(len(np.unique(output_df[\"scientificName\"]))))\n",
    "\n",
    "print(\"Cleaning took {} minutes\".format(round((time() - start_time) / 60)))"
   ]
  },
  {
   "cell_type": "code",
   "execution_count": null,
   "metadata": {},
   "outputs": [],
   "source": [
    "output_df.to_csv(OUTPUT_FILE, index=False)"
   ]
  },
  {
   "cell_type": "code",
   "execution_count": null,
   "metadata": {},
   "outputs": [],
   "source": [
    "before_len = len(output_df)\n",
    "after_len = len(output_df[output_df[\"scientificName\"].isin(bee_lookup_lst)])\n",
    "print(\"Dropping unknown taxa would result in the loss of {:,} records\".format(before_len - after_len))"
   ]
  },
  {
   "cell_type": "code",
   "execution_count": null,
   "metadata": {},
   "outputs": [],
   "source": []
  }
 ],
 "metadata": {
  "kernelspec": {
   "display_name": "Python 3",
   "language": "python",
   "name": "python3"
  },
  "language_info": {
   "codemirror_mode": {
    "name": "ipython",
    "version": 3
   },
   "file_extension": ".py",
   "mimetype": "text/x-python",
   "name": "python",
   "nbconvert_exporter": "python",
   "pygments_lexer": "ipython3",
   "version": "3.8.5"
  }
 },
 "nbformat": 4,
 "nbformat_minor": 1
}
